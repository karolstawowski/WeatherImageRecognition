{
 "cells": [
  {
   "cell_type": "markdown",
   "metadata": {
    "id": "ax_L5G2pkoG5"
   },
   "source": [
    "# Weather image recognition"
   ]
  },
  {
   "cell_type": "code",
   "execution_count": 146,
   "metadata": {
    "colab": {
     "base_uri": "https://localhost:8080/"
    },
    "id": "yCp6b8S8koG_",
    "outputId": "3835c956-1909-492f-8673-8086208bb74d"
   },
   "outputs": [
    {
     "name": "stdout",
     "output_type": "stream",
     "text": [
      "Tensorflow version: 2.10.1\n"
     ]
    }
   ],
   "source": [
    "import os\n",
    "import glob\n",
    "import tensorflow as tf\n",
    "from keras.preprocessing.image import ImageDataGenerator\n",
    "import math\n",
    "import numpy as np\n",
    "import matplotlib.pyplot as plt\n",
    "\n",
    "print(\"Tensorflow version:\", tf.__version__)"
   ]
  },
  {
   "cell_type": "markdown",
   "metadata": {},
   "source": [
    "### Functions"
   ]
  },
  {
   "cell_type": "code",
   "execution_count": 147,
   "metadata": {},
   "outputs": [],
   "source": [
    "def plot_history_acc_loss(history):\n",
    "    epochs = np.arange(len(history.history['val_loss'])) + 1\n",
    "    fig = plt.figure(figsize=(12, 4))\n",
    "    if 'acc' in history.history:\n",
    "        ax1 = fig.add_subplot(121)\n",
    "        ax1.plot(epochs, history.history['loss'], c='r', label='Train loss')\n",
    "        ax1.plot(epochs, history.history['val_loss'], c='k', label='Valid loss')\n",
    "        plt.legend(loc='lower left');\n",
    "        plt.grid(True)\n",
    "\n",
    "        ax1 = fig.add_subplot(122)\n",
    "        ax1.plot(epochs, history.history['acc'], c='r', label='Train acc')\n",
    "        ax1.plot(epochs, history.history['val_acc'], c='k', label='Valid acc')\n",
    "        plt.legend(loc='lower right');\n",
    "        plt.grid(True)\n",
    "\n",
    "    else:\n",
    "        ax1 = fig.add_subplot(111)\n",
    "        ax1.plot(epochs, history.history['loss'], c='r', label='Train loss')\n",
    "        ax1.plot(epochs, history.history['val_loss'], c='k', label='Valid loss')\n",
    "        plt.legend(loc='lower left');\n",
    "        plt.grid(True)\n",
    "\n",
    "    plt.show()\n",
    "    \n",
    "def get_nb_files(directory):\n",
    "    count = 0\n",
    "    for r, dirs, files in os.walk(directory):\n",
    "        for dr in dirs:\n",
    "              count += len(glob.glob(os.path.join(r, dr + \"/*\")))\n",
    "    return count"
   ]
  },
  {
   "cell_type": "markdown",
   "metadata": {},
   "source": [
    "### Model hyperparameters"
   ]
  },
  {
   "cell_type": "code",
   "execution_count": 148,
   "metadata": {},
   "outputs": [],
   "source": [
    "batch_size = 32\n",
    "epochs = 12"
   ]
  },
  {
   "cell_type": "markdown",
   "metadata": {},
   "source": [
    "### Data paths"
   ]
  },
  {
   "cell_type": "code",
   "execution_count": 149,
   "metadata": {
    "id": "5vTuC8lMWrZU"
   },
   "outputs": [],
   "source": [
    "local_folder = './dataset'\n",
    "train_dir = local_folder + '/train'\n",
    "valid_dir = local_folder + '/valid'\n",
    "test_dir = local_folder + '/test'"
   ]
  },
  {
   "cell_type": "markdown",
   "metadata": {},
   "source": [
    "### Load datasets"
   ]
  },
  {
   "cell_type": "code",
   "execution_count": 150,
   "metadata": {
    "id": "AgVckJHGWrZU",
    "outputId": "029b99e0-3f3b-4b9c-e6f6-55cc67a43bf9"
   },
   "outputs": [
    {
     "name": "stdout",
     "output_type": "stream",
     "text": [
      "Found 5484 images belonging to 11 classes.\n",
      "Found 696 images belonging to 11 classes.\n",
      "Found 682 images belonging to 11 classes.\n"
     ]
    }
   ],
   "source": [
    "datagen = ImageDataGenerator(rescale = 1./255, horizontal_flip=True, vertical_flip=True, rotation_range=10)\n",
    "\n",
    "target_image_size = (64, 64)\n",
    "\n",
    "train_dataset = datagen.flow_from_directory(train_dir,\n",
    "                                                  target_size = target_image_size,\n",
    "                                                  batch_size = batch_size,\n",
    "                                                  class_mode=\"categorical\")\n",
    "\n",
    "test_dataset = datagen.flow_from_directory(test_dir,\n",
    "                                                target_size = target_image_size,\n",
    "                                                batch_size = batch_size,\n",
    "                                                class_mode=\"categorical\")\n",
    "\n",
    "valid_dataset = datagen.flow_from_directory(valid_dir,\n",
    "                                                  target_size = target_image_size,\n",
    "                                                  batch_size = batch_size,\n",
    "                                                  class_mode=\"categorical\")"
   ]
  },
  {
   "cell_type": "markdown",
   "metadata": {},
   "source": [
    "### Number of images each dataset contains"
   ]
  },
  {
   "cell_type": "code",
   "execution_count": 151,
   "metadata": {
    "id": "4DSSp-TiWrZV"
   },
   "outputs": [],
   "source": [
    "num_train_examples = get_nb_files(train_dir)\n",
    "num_test_examples = get_nb_files(valid_dir)\n",
    "num_valid_examples = get_nb_files(test_dir)"
   ]
  },
  {
   "cell_type": "markdown",
   "metadata": {
    "id": "g1IBPESAXpIB"
   },
   "source": [
    "## Convolutional Neural Network model"
   ]
  },
  {
   "cell_type": "code",
   "execution_count": 152,
   "metadata": {
    "id": "Slz9YOwykoHK"
   },
   "outputs": [],
   "source": [
    "model = tf.keras.Sequential()\n",
    "model.add(tf.keras.layers.Conv2D(32, (3, 3), padding='same', activation='relu', input_shape = (64, 64, 3)))\n",
    "model.add(tf.keras.layers.MaxPooling2D(strides = 2))\n",
    "model.add(tf.keras.layers.Conv2D(32, (3, 3), padding='same', activation='relu'))\n",
    "model.add(tf.keras.layers.MaxPooling2D(strides = 2))\n",
    "model.add(tf.keras.layers.Flatten(input_shape=(16, 16, 32)))\n",
    "model.add(tf.keras.layers.Dense(128, activation='relu'))\n",
    "model.add(tf.keras.layers.Dense(11, activation='softmax'))"
   ]
  },
  {
   "cell_type": "code",
   "execution_count": 153,
   "metadata": {
    "id": "tP9ZjGP3koHK"
   },
   "outputs": [],
   "source": [
    "model.compile(optimizer='adam', \n",
    "              loss=tf.keras.losses.CategoricalCrossentropy(), \n",
    "              metrics=['acc'])"
   ]
  },
  {
   "cell_type": "code",
   "execution_count": 154,
   "metadata": {
    "colab": {
     "base_uri": "https://localhost:8080/",
     "height": 865
    },
    "id": "m0hFtQdrkoHK",
    "outputId": "8d1da5e7-9b98-412f-91e8-e9a6535a0624",
    "scrolled": false
   },
   "outputs": [
    {
     "name": "stdout",
     "output_type": "stream",
     "text": [
      "You must install pydot (`pip install pydot`) and install graphviz (see instructions at https://graphviz.gitlab.io/download/) for plot_model to work.\n"
     ]
    }
   ],
   "source": [
    "tf.keras.utils.plot_model(model, show_shapes=True)"
   ]
  },
  {
   "cell_type": "code",
   "execution_count": 155,
   "metadata": {
    "colab": {
     "base_uri": "https://localhost:8080/"
    },
    "id": "28cWfG5P6KnZ",
    "outputId": "64a9ca97-1d9b-4dd0-aefb-85ca0f54b864",
    "scrolled": true
   },
   "outputs": [
    {
     "name": "stdout",
     "output_type": "stream",
     "text": [
      "Model: \"sequential_9\"\n",
      "_________________________________________________________________\n",
      " Layer (type)                Output Shape              Param #   \n",
      "=================================================================\n",
      " conv2d_18 (Conv2D)          (None, 64, 64, 32)        896       \n",
      "                                                                 \n",
      " max_pooling2d_18 (MaxPoolin  (None, 32, 32, 32)       0         \n",
      " g2D)                                                            \n",
      "                                                                 \n",
      " conv2d_19 (Conv2D)          (None, 32, 32, 32)        9248      \n",
      "                                                                 \n",
      " max_pooling2d_19 (MaxPoolin  (None, 16, 16, 32)       0         \n",
      " g2D)                                                            \n",
      "                                                                 \n",
      " flatten_9 (Flatten)         (None, 8192)              0         \n",
      "                                                                 \n",
      " dense_18 (Dense)            (None, 128)               1048704   \n",
      "                                                                 \n",
      " dense_19 (Dense)            (None, 11)                1419      \n",
      "                                                                 \n",
      "=================================================================\n",
      "Total params: 1,060,267\n",
      "Trainable params: 1,060,267\n",
      "Non-trainable params: 0\n",
      "_________________________________________________________________\n"
     ]
    }
   ],
   "source": [
    "model.summary()"
   ]
  },
  {
   "cell_type": "markdown",
   "metadata": {
    "id": "RAUlI9wckoHK"
   },
   "source": [
    "## Model training"
   ]
  },
  {
   "cell_type": "code",
   "execution_count": 156,
   "metadata": {
    "colab": {
     "base_uri": "https://localhost:8080/"
    },
    "id": "Qda85maCzAOx",
    "outputId": "0c3a6ff4-79c4-4260-9b84-1516d7ad1868",
    "scrolled": true
   },
   "outputs": [
    {
     "name": "stdout",
     "output_type": "stream",
     "text": [
      "Epoch 1/12\n",
      "172/172 [==============================] - 30s 174ms/step - loss: 1.5043 - acc: 0.4894 - val_loss: 1.2276 - val_acc: 0.5909\n",
      "Epoch 2/12\n",
      "172/172 [==============================] - 30s 172ms/step - loss: 1.2081 - acc: 0.5848 - val_loss: 1.3971 - val_acc: 0.5103\n",
      "Epoch 3/12\n",
      "172/172 [==============================] - 28s 162ms/step - loss: 1.1081 - acc: 0.6089 - val_loss: 1.0393 - val_acc: 0.6569\n",
      "Epoch 4/12\n",
      "172/172 [==============================] - 31s 182ms/step - loss: 1.0525 - acc: 0.6368 - val_loss: 1.0118 - val_acc: 0.6364\n",
      "Epoch 5/12\n",
      "172/172 [==============================] - 29s 168ms/step - loss: 1.0097 - acc: 0.6464 - val_loss: 1.1522 - val_acc: 0.6114\n",
      "Epoch 6/12\n",
      "172/172 [==============================] - 31s 180ms/step - loss: 0.9724 - acc: 0.6637 - val_loss: 0.9400 - val_acc: 0.6789\n",
      "Epoch 7/12\n",
      "172/172 [==============================] - 31s 178ms/step - loss: 0.9221 - acc: 0.6794 - val_loss: 0.9497 - val_acc: 0.6701\n",
      "Epoch 8/12\n",
      "172/172 [==============================] - 32s 188ms/step - loss: 0.9037 - acc: 0.6834 - val_loss: 0.9993 - val_acc: 0.6598\n",
      "Epoch 9/12\n",
      "172/172 [==============================] - 29s 169ms/step - loss: 0.8804 - acc: 0.6873 - val_loss: 0.9964 - val_acc: 0.6628\n",
      "Epoch 10/12\n",
      "172/172 [==============================] - 31s 181ms/step - loss: 0.8465 - acc: 0.7048 - val_loss: 0.9763 - val_acc: 0.6628\n",
      "Epoch 11/12\n",
      "172/172 [==============================] - 31s 180ms/step - loss: 0.8423 - acc: 0.7179 - val_loss: 0.9670 - val_acc: 0.6760\n",
      "Epoch 12/12\n",
      "172/172 [==============================] - 32s 187ms/step - loss: 0.7992 - acc: 0.7219 - val_loss: 0.8983 - val_acc: 0.7053\n"
     ]
    }
   ],
   "source": [
    "history = model.fit(train_dataset, epochs=epochs, validation_data=valid_dataset)"
   ]
  },
  {
   "cell_type": "code",
   "execution_count": 158,
   "metadata": {
    "scrolled": true
   },
   "outputs": [
    {
     "data": {
      "image/png": "[encoded data removed]",
      "text/plain": [
       "<Figure size 1200x400 with 2 Axes>"
      ]
     },
     "metadata": {},
     "output_type": "display_data"
    }
   ],
   "source": [
    "plot_history_acc_loss(history)"
   ]
  },
  {
   "cell_type": "markdown",
   "metadata": {
    "id": "PsHu4ZjzkoHL"
   },
   "source": [
    "## Train and test datasets accuracy"
   ]
  },
  {
   "cell_type": "code",
   "execution_count": 159,
   "metadata": {
    "colab": {
     "base_uri": "https://localhost:8080/"
    },
    "id": "yXu8VPbxkoHL",
    "outputId": "e33988c5-7012-4802-9292-ca6c2be5a6b6",
    "scrolled": false
   },
   "outputs": [
    {
     "name": "stdout",
     "output_type": "stream",
     "text": [
      "172/172 [==============================] - 25s 147ms/step - loss: 0.7429 - acc: 0.7487\n",
      "22/22 [==============================] - 4s 163ms/step - loss: 0.9393 - acc: 0.6882\n",
      "Train accuracy: 74.87%\n",
      "Test accuracy: 68.82%\n"
     ]
    }
   ],
   "source": [
    "train_loss, train_accuracy = model.evaluate(train_dataset, steps=math.ceil(num_train_examples / batch_size))\n",
    "test_loss, test_accuracy = model.evaluate(test_dataset, steps=math.ceil(num_test_examples / batch_size))\n",
    "\n",
    "print('Train accuracy: {:.2f}%'.format(100*train_accuracy))\n",
    "print('Test accuracy: {:.2f}%'.format(100*test_accuracy))"
   ]
  },
  {
   "cell_type": "markdown",
   "metadata": {},
   "source": [
    "### Saving the model"
   ]
  },
  {
   "cell_type": "code",
   "execution_count": null,
   "metadata": {
    "scrolled": true
   },
   "outputs": [],
   "source": [
    "model.save('model')"
   ]
  }
 ],
 "metadata": {
  "accelerator": "GPU",
  "colab": {
   "provenance": []
  },
  "kernelspec": {
   "display_name": "Python 3 (ipykernel)",
   "language": "python",
   "name": "python3"
  },
  "language_info": {
   "codemirror_mode": {
    "name": "ipython",
    "version": 3
   },
   "file_extension": ".py",
   "mimetype": "text/x-python",
   "name": "python",
   "nbconvert_exporter": "python",
   "pygments_lexer": "ipython3",
   "version": "3.10.8"
  }
 },
 "nbformat": 4,
 "nbformat_minor": 1
}
